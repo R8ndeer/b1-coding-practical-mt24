{
 "cells": [
  {
   "cell_type": "code",
   "execution_count": 1,
   "metadata": {},
   "outputs": [],
   "source": [
    "%load_ext autoreload\n",
    "%autoreload 2"
   ]
  },
  {
   "cell_type": "code",
   "execution_count": 2,
   "metadata": {},
   "outputs": [
    {
     "name": "stdout",
     "output_type": "stream",
     "text": [
      "['/Users/liboting/Documents/schoolwork/Year3/B1_EngiComputation/scientific_computing/b1-coding-practical-mt24', '/Users/liboting/Documents/schoolwork/Year3/B1_EngiComputation/scientific_computing/b1-coding-practical-mt24/test', '/Users/liboting/anaconda3/envs/b1_sc/lib/python310.zip', '/Users/liboting/anaconda3/envs/b1_sc/lib/python3.10', '/Users/liboting/anaconda3/envs/b1_sc/lib/python3.10/lib-dynload', '', '/Users/liboting/anaconda3/envs/b1_sc/lib/python3.10/site-packages']\n"
     ]
    }
   ],
   "source": [
    "import sys\n",
    "\n",
    "print(sys.path)"
   ]
  },
  {
   "cell_type": "markdown",
   "metadata": {},
   "source": [
    "### Tests for correct imports."
   ]
  },
  {
   "cell_type": "code",
   "execution_count": 11,
   "metadata": {},
   "outputs": [],
   "source": [
    "from uuv_mission import generate_random_multisine_timeseries\n",
    "from uuv_mission import Mission\n",
    "\n",
    "ts = generate_random_multisine_timeseries()\n",
    "some_mission = Mission.random_mission(100, 2)\n",
    "# print(some_mission)"
   ]
  },
  {
   "cell_type": "markdown",
   "metadata": {},
   "source": [
    "### Tests for `Mission.read_csv()`."
   ]
  },
  {
   "cell_type": "code",
   "execution_count": 17,
   "metadata": {},
   "outputs": [
    {
     "ename": "TypeError",
     "evalue": "'numpy.ndarray' object is not callable",
     "output_type": "error",
     "traceback": [
      "\u001b[0;31m---------------------------------------------------------------------------\u001b[0m",
      "\u001b[0;31mTypeError\u001b[0m                                 Traceback (most recent call last)",
      "Cell \u001b[0;32mIn[17], line 3\u001b[0m\n\u001b[1;32m      1\u001b[0m real_missions \u001b[38;5;241m=\u001b[39m Mission\u001b[38;5;241m.\u001b[39mfrom_csv(\u001b[38;5;124m\"\u001b[39m\u001b[38;5;124mmission.csv\u001b[39m\u001b[38;5;124m\"\u001b[39m)\n\u001b[1;32m      2\u001b[0m \u001b[38;5;66;03m# print(real_missions)\u001b[39;00m\n\u001b[0;32m----> 3\u001b[0m \u001b[43mreal_missions\u001b[49m\u001b[38;5;241;43m.\u001b[39;49m\u001b[43mreference\u001b[49m\u001b[43m(\u001b[49m\u001b[43m)\u001b[49m\n",
      "\u001b[0;31mTypeError\u001b[0m: 'numpy.ndarray' object is not callable"
     ]
    }
   ],
   "source": [
    "real_missions = Mission.from_csv(\"mission.csv\")\n",
    "# print(real_missions)\n",
    "real_missions.reference"
   ]
  }
 ],
 "metadata": {
  "kernelspec": {
   "display_name": "b1_sc",
   "language": "python",
   "name": "python3"
  },
  "language_info": {
   "codemirror_mode": {
    "name": "ipython",
    "version": 3
   },
   "file_extension": ".py",
   "mimetype": "text/x-python",
   "name": "python",
   "nbconvert_exporter": "python",
   "pygments_lexer": "ipython3",
   "version": "3.10.15"
  }
 },
 "nbformat": 4,
 "nbformat_minor": 2
}
